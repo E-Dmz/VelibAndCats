{
 "cells": [
  {
   "cell_type": "markdown",
   "id": "df32839f",
   "metadata": {
    "heading_collapsed": true
   },
   "source": [
    "## Imports, API functions"
   ]
  },
  {
   "cell_type": "code",
   "execution_count": 29,
   "id": "19c4e72c",
   "metadata": {
    "hidden": true
   },
   "outputs": [],
   "source": [
    "import sys\n",
    "import twitter\n",
    "import requests\n",
    "import pandas as pd\n",
    "import datetime as dt\n",
    "\n",
    "from keys import keys\n",
    "api = twitter.Api(**keys)"
   ]
  },
  {
   "cell_type": "code",
   "execution_count": 2,
   "id": "d50cc8e2",
   "metadata": {
    "hidden": true
   },
   "outputs": [],
   "source": [
    "URL_CAT_FACT = \"https://catfact.ninja/fact\"\n",
    "URL_VELIB_STATUS = \"https://velib-metropole-opendata.smoove.pro/opendata/Velib_Metropole/station_status.json\"\n",
    "URL_VELIB_STATIONS = \"https://velib-metropole-opendata.smoove.pro/opendata/Velib_Metropole/station_information.json\"\n",
    "\n",
    "def get_cat_fact():\n",
    "    \"\"\"Returns a random catfact as a string\n",
    "    Example:\n",
    "    get_cat_fact() \n",
    "    -> 'Approximately 24 cat skins can make a coat.'\n",
    "    \"\"\"\n",
    "    url_base = URL_CAT_FACT\n",
    "    params = {\"max_length\": 260}\n",
    "    response = requests.get(url_base, params)\n",
    "    return response.json()[\"fact\"]\n",
    "\n",
    "def get_velib_df():\n",
    "    response = requests.get(URL_VELIB_STATUS)\n",
    "    velib_df = (pd.DataFrame(response.json()[\"data\"][\"stations\"])\n",
    "                    .set_index(\"stationCode\"))\n",
    "    return velib_df\n",
    "\n",
    "def get_stations_df():\n",
    "    response = requests.get(URL_VELIB_STATIONS)\n",
    "    stations_df = (pd.DataFrame(response.json()[\"data\"][\"stations\"])\n",
    "                   .set_index(\"station_id\"))\n",
    "    return stations_df"
   ]
  },
  {
   "cell_type": "markdown",
   "id": "0cf1ec39",
   "metadata": {
    "heading_collapsed": true
   },
   "source": [
    "## Testing APIs"
   ]
  },
  {
   "cell_type": "code",
   "execution_count": 3,
   "id": "75d4af2c",
   "metadata": {
    "hidden": true
   },
   "outputs": [
    {
     "name": "stdout",
     "output_type": "stream",
     "text": [
      "According to Hebrew legend, Noah prayed to God for help protecting all the food he stored on the ark from being eaten by rats. In reply, God made the lion sneeze, and out popped a cat.\n",
      "CPU times: user 54.7 ms, sys: 1.41 ms, total: 56.1 ms\n",
      "Wall time: 1.03 s\n"
     ]
    }
   ],
   "source": [
    "#%%time\n",
    "#cat_fact = get_cat_fact()\n",
    "#print(cat_fact)"
   ]
  },
  {
   "cell_type": "code",
   "execution_count": 4,
   "id": "9a5c54df",
   "metadata": {
    "hidden": true
   },
   "outputs": [
    {
     "name": "stdout",
     "output_type": "stream",
     "text": [
      "CPU times: user 109 ms, sys: 12.7 ms, total: 122 ms\n",
      "Wall time: 361 ms\n"
     ]
    },
    {
     "data": {
      "text/html": [
       "<div>\n",
       "<style scoped>\n",
       "    .dataframe tbody tr th:only-of-type {\n",
       "        vertical-align: middle;\n",
       "    }\n",
       "\n",
       "    .dataframe tbody tr th {\n",
       "        vertical-align: top;\n",
       "    }\n",
       "\n",
       "    .dataframe thead th {\n",
       "        text-align: right;\n",
       "    }\n",
       "</style>\n",
       "<table border=\"1\" class=\"dataframe\">\n",
       "  <thead>\n",
       "    <tr style=\"text-align: right;\">\n",
       "      <th></th>\n",
       "      <th>station_id</th>\n",
       "      <th>num_bikes_available</th>\n",
       "      <th>numBikesAvailable</th>\n",
       "      <th>num_bikes_available_types</th>\n",
       "      <th>num_docks_available</th>\n",
       "      <th>numDocksAvailable</th>\n",
       "      <th>is_installed</th>\n",
       "      <th>is_returning</th>\n",
       "      <th>is_renting</th>\n",
       "      <th>last_reported</th>\n",
       "    </tr>\n",
       "    <tr>\n",
       "      <th>stationCode</th>\n",
       "      <th></th>\n",
       "      <th></th>\n",
       "      <th></th>\n",
       "      <th></th>\n",
       "      <th></th>\n",
       "      <th></th>\n",
       "      <th></th>\n",
       "      <th></th>\n",
       "      <th></th>\n",
       "      <th></th>\n",
       "    </tr>\n",
       "  </thead>\n",
       "  <tbody>\n",
       "    <tr>\n",
       "      <th>20006</th>\n",
       "      <td>35472299</td>\n",
       "      <td>6</td>\n",
       "      <td>6</td>\n",
       "      <td>[{'mechanical': 4}, {'ebike': 2}]</td>\n",
       "      <td>6</td>\n",
       "      <td>6</td>\n",
       "      <td>1</td>\n",
       "      <td>1</td>\n",
       "      <td>1</td>\n",
       "      <td>1634092311</td>\n",
       "    </tr>\n",
       "    <tr>\n",
       "      <th>1018</th>\n",
       "      <td>210386007</td>\n",
       "      <td>0</td>\n",
       "      <td>0</td>\n",
       "      <td>[{'mechanical': 0}, {'ebike': 0}]</td>\n",
       "      <td>19</td>\n",
       "      <td>19</td>\n",
       "      <td>1</td>\n",
       "      <td>1</td>\n",
       "      <td>1</td>\n",
       "      <td>1634092283</td>\n",
       "    </tr>\n",
       "  </tbody>\n",
       "</table>\n",
       "</div>"
      ],
      "text/plain": [
       "             station_id  num_bikes_available  numBikesAvailable  \\\n",
       "stationCode                                                       \n",
       "20006          35472299                    6                  6   \n",
       "1018          210386007                    0                  0   \n",
       "\n",
       "                     num_bikes_available_types  num_docks_available  \\\n",
       "stationCode                                                           \n",
       "20006        [{'mechanical': 4}, {'ebike': 2}]                    6   \n",
       "1018         [{'mechanical': 0}, {'ebike': 0}]                   19   \n",
       "\n",
       "             numDocksAvailable  is_installed  is_returning  is_renting  \\\n",
       "stationCode                                                              \n",
       "20006                        6             1             1           1   \n",
       "1018                        19             1             1           1   \n",
       "\n",
       "             last_reported  \n",
       "stationCode                 \n",
       "20006           1634092311  \n",
       "1018            1634092283  "
      ]
     },
     "execution_count": 4,
     "metadata": {},
     "output_type": "execute_result"
    }
   ],
   "source": [
    "#%%time\n",
    "#velib_df = get_velib_df()\n",
    "#velib_df.sample(2)"
   ]
  },
  {
   "cell_type": "code",
   "execution_count": 5,
   "id": "f057fa5e",
   "metadata": {
    "hidden": true
   },
   "outputs": [
    {
     "name": "stdout",
     "output_type": "stream",
     "text": [
      "CPU times: user 75.9 ms, sys: 1.4 ms, total: 77.3 ms\n",
      "Wall time: 6.1 s\n"
     ]
    },
    {
     "data": {
      "text/html": [
       "<div>\n",
       "<style scoped>\n",
       "    .dataframe tbody tr th:only-of-type {\n",
       "        vertical-align: middle;\n",
       "    }\n",
       "\n",
       "    .dataframe tbody tr th {\n",
       "        vertical-align: top;\n",
       "    }\n",
       "\n",
       "    .dataframe thead th {\n",
       "        text-align: right;\n",
       "    }\n",
       "</style>\n",
       "<table border=\"1\" class=\"dataframe\">\n",
       "  <thead>\n",
       "    <tr style=\"text-align: right;\">\n",
       "      <th></th>\n",
       "      <th>name</th>\n",
       "      <th>lat</th>\n",
       "      <th>lon</th>\n",
       "      <th>capacity</th>\n",
       "      <th>stationCode</th>\n",
       "      <th>rental_methods</th>\n",
       "    </tr>\n",
       "    <tr>\n",
       "      <th>station_id</th>\n",
       "      <th></th>\n",
       "      <th></th>\n",
       "      <th></th>\n",
       "      <th></th>\n",
       "      <th></th>\n",
       "      <th></th>\n",
       "    </tr>\n",
       "  </thead>\n",
       "  <tbody>\n",
       "    <tr>\n",
       "      <th>27399735</th>\n",
       "      <td>Ernest Renan - Parc des Expositions</td>\n",
       "      <td>48.830898</td>\n",
       "      <td>2.285358</td>\n",
       "      <td>0</td>\n",
       "      <td>15126</td>\n",
       "      <td>[CREDITCARD]</td>\n",
       "    </tr>\n",
       "    <tr>\n",
       "      <th>478593396</th>\n",
       "      <td>Jean Moulin - Paul Doumer</td>\n",
       "      <td>48.862218</td>\n",
       "      <td>2.455334</td>\n",
       "      <td>20</td>\n",
       "      <td>31017</td>\n",
       "      <td>[CREDITCARD]</td>\n",
       "    </tr>\n",
       "  </tbody>\n",
       "</table>\n",
       "</div>"
      ],
      "text/plain": [
       "                                           name        lat       lon  \\\n",
       "station_id                                                             \n",
       "27399735    Ernest Renan - Parc des Expositions  48.830898  2.285358   \n",
       "478593396             Jean Moulin - Paul Doumer  48.862218  2.455334   \n",
       "\n",
       "            capacity stationCode rental_methods  \n",
       "station_id                                       \n",
       "27399735           0       15126   [CREDITCARD]  \n",
       "478593396         20       31017   [CREDITCARD]  "
      ]
     },
     "execution_count": 5,
     "metadata": {},
     "output_type": "execute_result"
    }
   ],
   "source": [
    "#%%time\n",
    "#stations_df = get_stations_df()\n",
    "#stations_df.sample(2)"
   ]
  },
  {
   "cell_type": "markdown",
   "id": "69afd7a9",
   "metadata": {
    "heading_collapsed": true
   },
   "source": [
    "## Post functions"
   ]
  },
  {
   "cell_type": "code",
   "execution_count": 17,
   "id": "2d48689b",
   "metadata": {
    "hidden": true
   },
   "outputs": [],
   "source": [
    "def status_station(i):\n",
    "    \"\"\"\n",
    "    global velib_df, stations_df are properly formatted pandas dataframes\n",
    "    i is the station code (int)\n",
    "    returns a string\n",
    "    Example:\n",
    "    status_station(12009)\n",
    "    -> '🚲 Charenton - Diderot : 8 🟩 - 3 🟦 - 7 🅿️'\n",
    "    \"\"\"\n",
    "    station = velib_df.loc[str(i),:] # row of the df\n",
    "    station_id = station['station_id']\n",
    "    nom_station = stations_df.loc[station_id,:][\"name\"]\n",
    "    dispos = station['num_bikes_available']\n",
    "    mecas = station['num_bikes_available_types'][0]['mechanical']\n",
    "    elecs = station['num_bikes_available_types'][1]['ebike']\n",
    "    parks = station['num_docks_available']\n",
    "    return f\"\"\"🚲 {nom_station} :\\n     {mecas} 🟩 - {elecs} 🟦 - {parks} 🅿️\"\"\""
   ]
  },
  {
   "cell_type": "code",
   "execution_count": 18,
   "id": "f04d076b",
   "metadata": {
    "hidden": true
   },
   "outputs": [],
   "source": [
    "def post_message(user_id, home_stations_list, day_stations_list, morning = 'True'):\n",
    "    \"\"\"\n",
    "    global api is an instance of twitter api\n",
    "    user_id in Twitter's user id, int\n",
    "    home_stations_list and day_stations_list are lists of int\n",
    "    morning is a boolean\n",
    "    tweets \n",
    "    \"\"\"\n",
    "    home_stations_txt = '\\n'.join([status_station(i) for i in home_stations_list])\n",
    "    day_stations_txt = '\\n'.join([status_station(i) for i in day_stations_list])\n",
    "    cat_fact_text = '😺 ' + get_cat_fact() + ' 😺'\n",
    "    if morning:\n",
    "        start_txt = \"\"\"👋 Good morning!\"\"\"\n",
    "        end_txt = '☀️ Have a splendid day ☀️'\n",
    "    else:\n",
    "        start_txt = \"\"\"👋 How was your day?\"\"\"\n",
    "        end_txt = '🌙 See you tomorrow 🌙'\n",
    "\n",
    "    api.PostDirectMessage(start_txt, user_id = user_id)\n",
    "    api.PostDirectMessage(home_stations_txt if morning \n",
    "                              else day_stations_txt, user_id = user_id)\n",
    "    api.PostDirectMessage(cat_fact_text, user_id = user_id)\n",
    "    api.PostDirectMessage(day_stations_txt if morning \n",
    "                              else home_stations_txt, user_id = user_id)\n",
    "    api.PostDirectMessage(end_txt, user_id = user_id)"
   ]
  },
  {
   "cell_type": "markdown",
   "id": "5e1e9f97",
   "metadata": {},
   "source": [
    "## Script"
   ]
  },
  {
   "cell_type": "code",
   "execution_count": 19,
   "id": "e23e07f3",
   "metadata": {},
   "outputs": [],
   "source": [
    "velib_df = get_velib_df()\n",
    "stations_df = get_stations_df()\n",
    "\n",
    "etienne_id = 115890590\n",
    "etienne_home_stations = [12008, 12009, 12106, 12011,]\n",
    "etienne_day_stations = [3003, 11043, 11047, 3002]\n",
    "\n",
    "peppe_id = 454228402\n",
    "peppe_home_stations = [12009, 12106, 12011]\n",
    "peppe_day_stations = [13055, 13050, 13016, 13054]\n",
    "\n",
    "morning = dt.datetime.now().hour <= 12"
   ]
  },
  {
   "cell_type": "code",
   "execution_count": 20,
   "id": "e80a6045",
   "metadata": {},
   "outputs": [],
   "source": [
    "if sys.argv[1] == \"etienne\":\n",
    "    post_message(etienne_id, etienne_home_stations, \n",
    "                     etienne_day_stations, morning = morning)\n",
    "elif sys.argv[1] == \"etienne\": \n",
    "    post_message(peppe_id, peppe_home_stations, \n",
    "                     peppe_day_stations, morning = morning)\n",
    "else: print(error)"
   ]
  }
 ],
 "metadata": {
  "kernelspec": {
   "display_name": "Python 3 (ipykernel)",
   "language": "python",
   "name": "python3"
  },
  "language_info": {
   "codemirror_mode": {
    "name": "ipython",
    "version": 3
   },
   "file_extension": ".py",
   "mimetype": "text/x-python",
   "name": "python",
   "nbconvert_exporter": "python",
   "pygments_lexer": "ipython3",
   "version": "3.8.12"
  },
  "toc": {
   "base_numbering": 1,
   "nav_menu": {},
   "number_sections": true,
   "sideBar": true,
   "skip_h1_title": false,
   "title_cell": "Table of Contents",
   "title_sidebar": "Contents",
   "toc_cell": false,
   "toc_position": {},
   "toc_section_display": true,
   "toc_window_display": false
  }
 },
 "nbformat": 4,
 "nbformat_minor": 5
}
